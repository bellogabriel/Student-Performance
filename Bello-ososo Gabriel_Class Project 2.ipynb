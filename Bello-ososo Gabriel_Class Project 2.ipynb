{
 "cells": [
  {
   "cell_type": "markdown",
   "id": "70942e47-cac2-4bf5-932d-8b27b19d58b8",
   "metadata": {},
   "source": [
    "# STUDENT PERFORMANCE DATA ANALYSIS"
   ]
  },
  {
   "cell_type": "markdown",
   "id": "379580b4-f175-4f13-b805-f657f4c6915d",
   "metadata": {},
   "source": [
    "### Part 1: Raw Logic"
   ]
  },
  {
   "cell_type": "code",
   "execution_count": 45,
   "id": "99119385-77a8-4f03-9db6-17f45e60f90f",
   "metadata": {},
   "outputs": [
    {
     "name": "stdin",
     "output_type": "stream",
     "text": [
      "How many students will be in this record:  5\n",
      "How many subjecs will be in this record:  3\n",
      "Enter name for subject 1:  Maths\n",
      "Enter name for subject 2:  English\n",
      "Enter name for subject 3:  Physics\n",
      "What is the name of this student:  James\n",
      "What was the score in Maths):  78\n",
      "What was the score in English):  85\n",
      "What was the score in Physics):  68\n"
     ]
    },
    {
     "name": "stdout",
     "output_type": "stream",
     "text": [
      "record taken successfully {'name': 'James', 'Maths': 78, 'English': 85, 'Physics': 68}\n"
     ]
    },
    {
     "name": "stdin",
     "output_type": "stream",
     "text": [
      "What is the name of this student:  Faith\n",
      "What was the score in Maths):  85\n",
      "What was the score in English):  56\n",
      "What was the score in Physics):  54\n"
     ]
    },
    {
     "name": "stdout",
     "output_type": "stream",
     "text": [
      "record taken successfully {'name': 'Faith', 'Maths': 85, 'English': 56, 'Physics': 54}\n"
     ]
    },
    {
     "name": "stdin",
     "output_type": "stream",
     "text": [
      "What is the name of this student:  Stanley\n",
      "What was the score in Maths):  63\n",
      "What was the score in English):  54\n",
      "What was the score in Physics):  75\n"
     ]
    },
    {
     "name": "stdout",
     "output_type": "stream",
     "text": [
      "record taken successfully {'name': 'Stanley', 'Maths': 63, 'English': 54, 'Physics': 75}\n"
     ]
    },
    {
     "name": "stdin",
     "output_type": "stream",
     "text": [
      "What is the name of this student:  Busayo\n",
      "What was the score in Maths):  78\n",
      "What was the score in English):  86\n",
      "What was the score in Physics):  56\n"
     ]
    },
    {
     "name": "stdout",
     "output_type": "stream",
     "text": [
      "record taken successfully {'name': 'Busayo', 'Maths': 78, 'English': 86, 'Physics': 56}\n"
     ]
    },
    {
     "name": "stdin",
     "output_type": "stream",
     "text": [
      "What is the name of this student:  Stephanie\n",
      "What was the score in Maths):  78\n",
      "What was the score in English):  56\n",
      "What was the score in Physics):  68\n"
     ]
    },
    {
     "name": "stdout",
     "output_type": "stream",
     "text": [
      "record taken successfully {'name': 'Stephanie', 'Maths': 78, 'English': 56, 'Physics': 68}\n",
      "[{'name': 'James', 'Maths': 78, 'English': 85, 'Physics': 68}, {'name': 'Faith', 'Maths': 85, 'English': 56, 'Physics': 54}, {'name': 'Stanley', 'Maths': 63, 'English': 54, 'Physics': 75}, {'name': 'Busayo', 'Maths': 78, 'English': 86, 'Physics': 56}, {'name': 'Stephanie', 'Maths': 78, 'English': 56, 'Physics': 68}]\n"
     ]
    }
   ],
   "source": [
    "# Initialize an empty dictionary to hold student data\n",
    "student_data = []\n",
    "\n",
    "# Take the number of students in class, subjects offered and subject label\n",
    "no_of_studs = int(input('How many students will be in this record: '))\n",
    "no_of_subjects = int(input('How many subjects will be in this record: '))\n",
    "sub_label = [input('Enter name for subject {}: '.format(i+1)).strip().title() for i in range(no_of_subjects)]\n",
    "\n",
    "# Collect individual student data\n",
    "for i in range(no_of_studs):\n",
    "    student_record = {}\n",
    "    student_record['name'] = input('What is the name of this student: ')\n",
    "    for subject in sub_label:\n",
    "        student_record['{}'.format(subject)] = int(input('What was the score in {}): '.format(subject)))\n",
    "    print('record taken successfully {}'.format(student_record))\n",
    "\n",
    "    # Add this record to the student data list\n",
    "    student_data.append(student_record)\n",
    "print(student_data)\n"
   ]
  },
  {
   "cell_type": "code",
   "execution_count": 51,
   "id": "2bd9abe1-6abc-4155-a019-94f3f7dd3e02",
   "metadata": {},
   "outputs": [
    {
     "data": {
      "text/plain": [
       "[{'name': 'James',\n",
       "  'Maths': 78,\n",
       "  'English': 85,\n",
       "  'Physics': 68,\n",
       "  'average_score': 77.0,\n",
       "  'average': 77.0},\n",
       " {'name': 'Faith',\n",
       "  'Maths': 85,\n",
       "  'English': 56,\n",
       "  'Physics': 54,\n",
       "  'average_score': 65.0,\n",
       "  'average': 65.0},\n",
       " {'name': 'Stanley',\n",
       "  'Maths': 63,\n",
       "  'English': 54,\n",
       "  'Physics': 75,\n",
       "  'average_score': 64.0,\n",
       "  'average': 64.0},\n",
       " {'name': 'Busayo',\n",
       "  'Maths': 78,\n",
       "  'English': 86,\n",
       "  'Physics': 56,\n",
       "  'average_score': 73.33,\n",
       "  'average': 73.33},\n",
       " {'name': 'Stephanie',\n",
       "  'Maths': 78,\n",
       "  'English': 56,\n",
       "  'Physics': 68,\n",
       "  'average_score': 67.33,\n",
       "  'average': 67.33}]"
      ]
     },
     "execution_count": 51,
     "metadata": {},
     "output_type": "execute_result"
    }
   ],
   "source": [
    "# Calculation for Each Student's Average\n",
    "for student in student_data:\n",
    "    scores = [score for subject, score in student.items() if subject != 'name']\n",
    "    average = sum(scores) / len(scores)\n",
    "    student['average'] = round(average, 2)  \n",
    "\n",
    "student_data"
   ]
  },
  {
   "cell_type": "code",
   "execution_count": 53,
   "id": "59ce82bf-74bc-4b67-8fdb-6b4f6bc3d279",
   "metadata": {},
   "outputs": [
    {
     "data": {
      "text/plain": [
       "[{'name': 'James',\n",
       "  'Maths': 78,\n",
       "  'English': 85,\n",
       "  'Physics': 68,\n",
       "  'average_score': 77.0,\n",
       "  'average': 77.0,\n",
       "  'grade': 'B - VERY GOOD'},\n",
       " {'name': 'Faith',\n",
       "  'Maths': 85,\n",
       "  'English': 56,\n",
       "  'Physics': 54,\n",
       "  'average_score': 65.0,\n",
       "  'average': 65.0,\n",
       "  'grade': 'C - GOOD'},\n",
       " {'name': 'Stanley',\n",
       "  'Maths': 63,\n",
       "  'English': 54,\n",
       "  'Physics': 75,\n",
       "  'average_score': 64.0,\n",
       "  'average': 64.0,\n",
       "  'grade': 'C - GOOD'},\n",
       " {'name': 'Busayo',\n",
       "  'Maths': 78,\n",
       "  'English': 86,\n",
       "  'Physics': 56,\n",
       "  'average_score': 73.33,\n",
       "  'average': 73.33,\n",
       "  'grade': 'B - VERY GOOD'},\n",
       " {'name': 'Stephanie',\n",
       "  'Maths': 78,\n",
       "  'English': 56,\n",
       "  'Physics': 68,\n",
       "  'average_score': 67.33,\n",
       "  'average': 67.33,\n",
       "  'grade': 'C - GOOD'}]"
      ]
     },
     "execution_count": 53,
     "metadata": {},
     "output_type": "execute_result"
    }
   ],
   "source": [
    "# Assign grades to each student\n",
    "for record in student_data:\n",
    "    if record['average'] >=80 and record['average'] <=100:\n",
    "        grade = \"A - EXCELLENT\"\n",
    "    elif record['average'] >=70 and record['average'] <=79:\n",
    "        grade = \"B - VERY GOOD\"\n",
    "    elif record['average'] >=60 and record['average'] <=69:\n",
    "        grade = \"C - GOOD\"\n",
    "    elif record['average'] >=50 and record['average'] <=59:\n",
    "        grade = \"D - FAIR - Needs Improvement\"\n",
    "    else:\n",
    "        grade = \"F - POOR - Work Harder\"\n",
    "    record['grade'] = grade\n",
    "\n",
    "student_data"
   ]
  },
  {
   "cell_type": "code",
   "execution_count": 55,
   "id": "deafd84b-b9b1-43af-a1c1-17d80a119eed",
   "metadata": {},
   "outputs": [
    {
     "name": "stdout",
     "output_type": "stream",
     "text": [
      "Hi James, you scored an average of 77.0, your grade is B - VERY GOOD\n",
      "Hi Faith, you scored an average of 65.0, your grade is C - GOOD\n",
      "Hi Stanley, you scored an average of 64.0, your grade is C - GOOD\n",
      "Hi Busayo, you scored an average of 73.33, your grade is B - VERY GOOD\n",
      "Hi Stephanie, you scored an average of 67.33, your grade is C - GOOD\n"
     ]
    }
   ],
   "source": [
    "# Summary for Each student\n",
    "for record in student_data:\n",
    "    print(\"Hi {}, you scored an average of {}, your grade is {}\".format(record['name'], record['average'], record['grade']))"
   ]
  },
  {
   "cell_type": "markdown",
   "id": "9eecbec3-019e-4728-a80d-3a1f52861d97",
   "metadata": {},
   "source": [
    "### PART 2: Refactor Using Functions"
   ]
  },
  {
   "cell_type": "code",
   "execution_count": 107,
   "id": "99c3cb19-3f75-4ac1-9da2-9688b49b9822",
   "metadata": {},
   "outputs": [],
   "source": [
    "# Define a function that collects student data: collect_record\n",
    "def collect_record():\n",
    "    ''' Functions returns a list of dictionaries with each dictionary as a student record with key-value pairs of their details.\n",
    "    Takes one argument which is the number of students in the class'''\n",
    "\n",
    "    # Collect individual student data as records - first initiate an empty list\n",
    "    student_data_2 = []\n",
    "    no_of_studs = int(input('How many students will be in this record: '))\n",
    "    no_of_subjects = int(input('How many subjecs will be in this record: '))\n",
    "    sub_label = [input('Enter name for subject {}: '.format(i+1)).strip().title() for i in range(no_of_subjects)]\n",
    "    print('collected necessary data for record creation... \\n'.capitalize())\n",
    "    \n",
    "    # Loop through the number of students to assign record for each\n",
    "    for i in range(no_of_studs):\n",
    "        student_record = {}\n",
    "        print('Now, provide student record details according to the prompt')\n",
    "        student_record['name'.title()] = input('What is the name of student {}: '.format(i+1))\n",
    "        for subject in sub_label:\n",
    "            student_record['{}_score'.format(subject)] = int(input('What was the score in {}): '.format(subject)))\n",
    "        \n",
    "        # Add student record to the list\n",
    "        student_data_2.append(student_record)\n",
    "        print('record taken successfully {} \\n'.format(student_record))\n",
    "\n",
    "    # return the student data\n",
    "    return student_data_2"
   ]
  },
  {
   "cell_type": "code",
   "execution_count": 119,
   "id": "0a784a02-8911-473e-8edd-392a68932b81",
   "metadata": {},
   "outputs": [],
   "source": [
    "# Define a function that calculates the average score of each student\n",
    "def calculate_average(scores):\n",
    "    \"\"\"This returns the average score from list (dataset) of records collected from the student's exam scores. \n",
    "    It takes one argument which is the score of the student\"\"\"\n",
    "\n",
    "    # Calculate the average from various subjects\n",
    "    average = sum(scores) / len(scores)\n",
    "    return average\n"
   ]
  },
  {
   "cell_type": "code",
   "execution_count": 121,
   "id": "6519fa4c-7875-435c-b9e1-b8f1f9a0ef5f",
   "metadata": {},
   "outputs": [],
   "source": [
    "# Define a function that the grade of each student based on their average score\n",
    "def assign_grade(avg):\n",
    "    \"\"\" This returns the student's grade from the exam. \n",
    "    It takes one argument which is the column of average score of the students\"\"\"\n",
    "\n",
    "    # Logical statement to determine grade\n",
    "    if avg >=80 and avg <=100:\n",
    "        grade = \"A\"\n",
    "    elif avg >=70 and avg <=79:\n",
    "        grade = \"B\"\n",
    "    elif avg >=60 and avg <=69:\n",
    "        grade = \"C\"\n",
    "    elif avg >=50 and avg <=59:\n",
    "        grade = \"D\"\n",
    "    else:\n",
    "        grade = \"F\"\n",
    "    return grade\n"
   ]
  },
  {
   "cell_type": "code",
   "execution_count": 123,
   "id": "adb295a9-384e-43ce-a8db-7f62e2266686",
   "metadata": {},
   "outputs": [],
   "source": [
    "# Define a function that generates remark for each student based on their performance\n",
    "def generate_remark(grade):\n",
    "    ''' This returns a comment of the student/'s performance in the exam. \n",
    "    It takes one argument which is the grade of the student'''\n",
    "    \n",
    "    # Logical statement to determine grade\n",
    "    if grade == 'A':\n",
    "        remark = \"EXCELLENT\"\n",
    "    elif grade == 'B':\n",
    "        remark = \"VERY GOOD\"\n",
    "    elif grade == 'C':\n",
    "        remark = \"GOOD\"\n",
    "    elif grade == 'D':\n",
    "        remark = \"FAIR - Needs Improvement\"\n",
    "    else:\n",
    "        remark = \"POOR - Work Harder\"\n",
    "    return remark"
   ]
  },
  {
   "cell_type": "code",
   "execution_count": 125,
   "id": "222a2431-8958-4cb7-b9c0-9ef1f8f9cd28",
   "metadata": {},
   "outputs": [],
   "source": [
    "# Define a function that gives a summary table of student performance\n",
    "def summarize_students(data):\n",
    "    \"\"\"This returns a summary table of the overall student's performance in the exam. \n",
    "    It takes one argument which is the dataset of the students in the class\"\"\"\n",
    "    \n",
    "    # import necessary libraries\n",
    "    import pandas as pd\n",
    "\n",
    "    # Create a pandas Dataframe of the data\n",
    "    summary_table = pd.DataFrame(data)\n",
    "\n",
    "    return summary_table"
   ]
  },
  {
   "cell_type": "code",
   "execution_count": 139,
   "id": "5d474a57-cc41-4cb4-939d-adfb834e32f2",
   "metadata": {},
   "outputs": [
    {
     "name": "stdin",
     "output_type": "stream",
     "text": [
      "How many students will be in this record:  10\n",
      "How many subjecs will be in this record:  5\n",
      "Enter name for subject 1:  maths\n",
      "Enter name for subject 2:  english\n",
      "Enter name for subject 3:  science\n",
      "Enter name for subject 4:  arts\n",
      "Enter name for subject 5:  economics\n"
     ]
    },
    {
     "name": "stdout",
     "output_type": "stream",
     "text": [
      "Collected necessary data for record creation... \n",
      "\n",
      "Now, provide student record details according to the prompt\n"
     ]
    },
    {
     "name": "stdin",
     "output_type": "stream",
     "text": [
      "What is the name of student 1:  Joanna\n",
      "What was the score in Maths):  75\n",
      "What was the score in English):  68\n",
      "What was the score in Science):  92\n",
      "What was the score in Arts):  72\n",
      "What was the score in Economics):  85\n"
     ]
    },
    {
     "name": "stdout",
     "output_type": "stream",
     "text": [
      "record taken successfully {'Name': 'Joanna', 'Maths_score': 75, 'English_score': 68, 'Science_score': 92, 'Arts_score': 72, 'Economics_score': 85} \n",
      "\n",
      "Now, provide student record details according to the prompt\n"
     ]
    },
    {
     "name": "stdin",
     "output_type": "stream",
     "text": [
      "What is the name of student 2:  Justus\n",
      "What was the score in Maths):  85\n",
      "What was the score in English):  78\n",
      "What was the score in Science):  89\n",
      "What was the score in Arts):  72\n",
      "What was the score in Economics):  86\n"
     ]
    },
    {
     "name": "stdout",
     "output_type": "stream",
     "text": [
      "record taken successfully {'Name': 'Justus', 'Maths_score': 85, 'English_score': 78, 'Science_score': 89, 'Arts_score': 72, 'Economics_score': 86} \n",
      "\n",
      "Now, provide student record details according to the prompt\n"
     ]
    },
    {
     "name": "stdin",
     "output_type": "stream",
     "text": [
      "What is the name of student 3:  Julius\n",
      "What was the score in Maths):  35\n",
      "What was the score in English):  55\n",
      "What was the score in Science):  40\n",
      "What was the score in Arts):  32\n",
      "What was the score in Economics):  25\n"
     ]
    },
    {
     "name": "stdout",
     "output_type": "stream",
     "text": [
      "record taken successfully {'Name': 'Julius', 'Maths_score': 35, 'English_score': 55, 'Science_score': 40, 'Arts_score': 32, 'Economics_score': 25} \n",
      "\n",
      "Now, provide student record details according to the prompt\n"
     ]
    },
    {
     "name": "stdin",
     "output_type": "stream",
     "text": [
      "What is the name of student 4:  Jamez\n",
      "What was the score in Maths):  50\n",
      "What was the score in English):  50\n",
      "What was the score in Science):  53\n",
      "What was the score in Arts):  58\n",
      "What was the score in Economics):  60\n"
     ]
    },
    {
     "name": "stdout",
     "output_type": "stream",
     "text": [
      "record taken successfully {'Name': 'Jamez', 'Maths_score': 50, 'English_score': 50, 'Science_score': 53, 'Arts_score': 58, 'Economics_score': 60} \n",
      "\n",
      "Now, provide student record details according to the prompt\n"
     ]
    },
    {
     "name": "stdin",
     "output_type": "stream",
     "text": [
      "What is the name of student 5:  Joyce\n",
      "What was the score in Maths):  62\n",
      "What was the score in English):  68\n",
      "What was the score in Science):  58\n",
      "What was the score in Arts):  72\n",
      "What was the score in Economics):  60\n"
     ]
    },
    {
     "name": "stdout",
     "output_type": "stream",
     "text": [
      "record taken successfully {'Name': 'Joyce', 'Maths_score': 62, 'English_score': 68, 'Science_score': 58, 'Arts_score': 72, 'Economics_score': 60} \n",
      "\n",
      "Now, provide student record details according to the prompt\n"
     ]
    },
    {
     "name": "stdin",
     "output_type": "stream",
     "text": [
      "What is the name of student 6:  Janetti\n",
      "What was the score in Maths):  75\n",
      "What was the score in English):  73\n",
      "What was the score in Science):  78\n",
      "What was the score in Arts):  74\n",
      "What was the score in Economics):  80\n"
     ]
    },
    {
     "name": "stdout",
     "output_type": "stream",
     "text": [
      "record taken successfully {'Name': 'Janetti', 'Maths_score': 75, 'English_score': 73, 'Science_score': 78, 'Arts_score': 74, 'Economics_score': 80} \n",
      "\n",
      "Now, provide student record details according to the prompt\n"
     ]
    },
    {
     "name": "stdin",
     "output_type": "stream",
     "text": [
      "What is the name of student 7:  Joshua\n",
      "What was the score in Maths):  85\n",
      "What was the score in English):  45\n",
      "What was the score in Science):  56\n",
      "What was the score in Arts):  68\n",
      "What was the score in Economics):  51\n"
     ]
    },
    {
     "name": "stdout",
     "output_type": "stream",
     "text": [
      "record taken successfully {'Name': 'Joshua', 'Maths_score': 85, 'English_score': 45, 'Science_score': 56, 'Arts_score': 68, 'Economics_score': 51} \n",
      "\n",
      "Now, provide student record details according to the prompt\n"
     ]
    },
    {
     "name": "stdin",
     "output_type": "stream",
     "text": [
      "What is the name of student 8:  Joseph\n",
      "What was the score in Maths):  42\n",
      "What was the score in English):  25\n",
      "What was the score in Science):  35\n",
      "What was the score in Arts):  61\n",
      "What was the score in Economics):  20\n"
     ]
    },
    {
     "name": "stdout",
     "output_type": "stream",
     "text": [
      "record taken successfully {'Name': 'Joseph', 'Maths_score': 42, 'English_score': 25, 'Science_score': 35, 'Arts_score': 61, 'Economics_score': 20} \n",
      "\n",
      "Now, provide student record details according to the prompt\n"
     ]
    },
    {
     "name": "stdin",
     "output_type": "stream",
     "text": [
      "What is the name of student 9:  Jennifer\n",
      "What was the score in Maths):  63\n",
      "What was the score in English):  85\n",
      "What was the score in Science):  65\n",
      "What was the score in Arts):  82\n",
      "What was the score in Economics):  72\n"
     ]
    },
    {
     "name": "stdout",
     "output_type": "stream",
     "text": [
      "record taken successfully {'Name': 'Jennifer', 'Maths_score': 63, 'English_score': 85, 'Science_score': 65, 'Arts_score': 82, 'Economics_score': 72} \n",
      "\n",
      "Now, provide student record details according to the prompt\n"
     ]
    },
    {
     "name": "stdin",
     "output_type": "stream",
     "text": [
      "What is the name of student 10:  Johnny\n",
      "What was the score in Maths):  62\n",
      "What was the score in English):  65\n",
      "What was the score in Science):  68\n",
      "What was the score in Arts):  64\n",
      "What was the score in Economics):  50\n"
     ]
    },
    {
     "name": "stdout",
     "output_type": "stream",
     "text": [
      "record taken successfully {'Name': 'Johnny', 'Maths_score': 62, 'English_score': 65, 'Science_score': 68, 'Arts_score': 64, 'Economics_score': 50} \n",
      "\n",
      "This is the exam record with student's average score [{'Name': 'Joanna', 'Maths_score': 75, 'English_score': 68, 'Science_score': 92, 'Arts_score': 72, 'Economics_score': 85, 'Average_Score': 78.4}, {'Name': 'Justus', 'Maths_score': 85, 'English_score': 78, 'Science_score': 89, 'Arts_score': 72, 'Economics_score': 86, 'Average_Score': 82.0}, {'Name': 'Julius', 'Maths_score': 35, 'English_score': 55, 'Science_score': 40, 'Arts_score': 32, 'Economics_score': 25, 'Average_Score': 37.4}, {'Name': 'Jamez', 'Maths_score': 50, 'English_score': 50, 'Science_score': 53, 'Arts_score': 58, 'Economics_score': 60, 'Average_Score': 54.2}, {'Name': 'Joyce', 'Maths_score': 62, 'English_score': 68, 'Science_score': 58, 'Arts_score': 72, 'Economics_score': 60, 'Average_Score': 64.0}, {'Name': 'Janetti', 'Maths_score': 75, 'English_score': 73, 'Science_score': 78, 'Arts_score': 74, 'Economics_score': 80, 'Average_Score': 76.0}, {'Name': 'Joshua', 'Maths_score': 85, 'English_score': 45, 'Science_score': 56, 'Arts_score': 68, 'Economics_score': 51, 'Average_Score': 61.0}, {'Name': 'Joseph', 'Maths_score': 42, 'English_score': 25, 'Science_score': 35, 'Arts_score': 61, 'Economics_score': 20, 'Average_Score': 36.6}, {'Name': 'Jennifer', 'Maths_score': 63, 'English_score': 85, 'Science_score': 65, 'Arts_score': 82, 'Economics_score': 72, 'Average_Score': 73.4}, {'Name': 'Johnny', 'Maths_score': 62, 'English_score': 65, 'Science_score': 68, 'Arts_score': 64, 'Economics_score': 50, 'Average_Score': 61.8}] \n",
      "\n",
      "ASSIGNING GRADES...\n",
      "Joanna record shows performance as VERY GOOD \n",
      "\n",
      "Justus record shows performance as EXCELLENT \n",
      "\n",
      "Julius record shows performance as POOR - Work Harder \n",
      "\n",
      "Jamez record shows performance as FAIR - Needs Improvement \n",
      "\n",
      "Joyce record shows performance as GOOD \n",
      "\n",
      "Janetti record shows performance as VERY GOOD \n",
      "\n",
      "Joshua record shows performance as GOOD \n",
      "\n",
      "Joseph record shows performance as POOR - Work Harder \n",
      "\n",
      "Jennifer record shows performance as VERY GOOD \n",
      "\n",
      "Johnny record shows performance as GOOD \n",
      "\n",
      "       Name  Maths_score  English_score  Science_score  Arts_score  \\\n",
      "0    Joanna           75             68             92          72   \n",
      "1    Justus           85             78             89          72   \n",
      "2    Julius           35             55             40          32   \n",
      "3     Jamez           50             50             53          58   \n",
      "4     Joyce           62             68             58          72   \n",
      "5   Janetti           75             73             78          74   \n",
      "6    Joshua           85             45             56          68   \n",
      "7    Joseph           42             25             35          61   \n",
      "8  Jennifer           63             85             65          82   \n",
      "9    Johnny           62             65             68          64   \n",
      "\n",
      "   Economics_score  Average_Score Grade                    Remark  \n",
      "0               85           78.4     B                 VERY GOOD  \n",
      "1               86           82.0     A                 EXCELLENT  \n",
      "2               25           37.4     F        POOR - Work Harder  \n",
      "3               60           54.2     D  FAIR - Needs Improvement  \n",
      "4               60           64.0     C                      GOOD  \n",
      "5               80           76.0     B                 VERY GOOD  \n",
      "6               51           61.0     C                      GOOD  \n",
      "7               20           36.6     F        POOR - Work Harder  \n",
      "8               72           73.4     B                 VERY GOOD  \n",
      "9               50           61.8     C                      GOOD  \n",
      "The Above Is The Exam Record Of The Selected Student And The Grades\n"
     ]
    }
   ],
   "source": [
    "# Let us now try out these functions - using the collect record function and passing the number of student in class\n",
    "exam_record = collect_record()\n",
    "\n",
    "# Add a new record of the average score for each student\n",
    "for student in exam_record:\n",
    "    # Generate a list of scores for each student\n",
    "    scores = [score for subject, score in student.items() if subject != 'Name'] \n",
    "    student['average_score'.title()] = round(calculate_average(scores), 1)\n",
    "print(\"This is the exam record with student's average score {} \\n\".format(exam_record))\n",
    "\n",
    "# Now, Let us assign them grades based on their average scores\n",
    "print('ASSIGNING GRADES...')\n",
    "for student in exam_record:\n",
    "    student['grade'.title()] = assign_grade(student['average_score'.title()])\n",
    "\n",
    "exam_record\n",
    "\n",
    "# Let us generate remark for each student\n",
    "for student in exam_record:\n",
    "    student['remark'.title()] = generate_remark(student['grade'.title()])\n",
    "    print('{} record shows performance as {} \\n'.format(student['name'.title()], student['remark'.title()]))\n",
    "\n",
    "exam_record\n",
    "\n",
    "# Now, let us conclude part 2 by viewing a summary table of the student data\n",
    "stud_summ_table = summarize_students(exam_record)\n",
    "\n",
    "print(stud_summ_table)\n",
    "print('the above is the exam record of the selected student and the grades'.title())"
   ]
  },
  {
   "cell_type": "markdown",
   "id": "bd02eefc-98e7-4af2-bfce-b9a36b46cc71",
   "metadata": {},
   "source": [
    "### Part 3: Add Descriptive Stats"
   ]
  },
  {
   "cell_type": "code",
   "execution_count": 141,
   "id": "ebe00faa-57ef-43fd-8288-7af3f8895e3c",
   "metadata": {},
   "outputs": [
    {
     "name": "stdout",
     "output_type": "stream",
     "text": [
      "The Class Average is: 62.48 \n",
      "\n",
      "The Top Student in the class is Justus, with average score of 82.0\n",
      "\n",
      "The Lowest Student in the class is Joseph, with average score of 36.6\n",
      "\n",
      "This is the Grade Distribution: Grade\n",
      "A    1\n",
      "B    3\n",
      "C    3\n",
      "D    1\n",
      "F    2\n",
      "Name: count, dtype: int64\n"
     ]
    }
   ],
   "source": [
    "# Import necessary libraries\n",
    "import pandas as pd\n",
    "\n",
    "# Using functions from the pandas module, find some descriptive information from the summary table\n",
    "Overall_Class_Avg = stud_summ_table['average_score'.title()].mean()\n",
    "Top_Score = stud_summ_table['average_score'.title()].max()\n",
    "Top_student = stud_summ_table[stud_summ_table['average_score'.title()] == Top_Score]['name'.title()].tolist()\n",
    "Least_score = stud_summ_table['average_score'.title()].min()\n",
    "Worst_student = stud_summ_table[stud_summ_table['average_score'.title()] == Least_score]['name'.title()].tolist()\n",
    "\n",
    "print('The Class Average is: {} \\n'.format(Overall_Class_Avg))\n",
    "print('The Top Student in the class is {}, with average score of {}\\n'.format(Top_student[0], Top_Score))\n",
    "print('The Lowest Student in the class is {}, with average score of {}\\n'.format(Worst_student[0], Least_score))\n",
    "\n",
    "# For the grade distribution\n",
    "grade_order = ['A', 'B', 'C', 'D', 'F']\n",
    "grade_distribution = stud_summ_table['grade'.title()].value_counts().reindex(grade_order, fill_value=0)\n",
    "print('This is the Grade Distribution: {}'.format(grade_distribution))"
   ]
  },
  {
   "cell_type": "code",
   "execution_count": null,
   "id": "16f9174e-3ebf-4bc3-8bd7-70e9c099fb0b",
   "metadata": {},
   "outputs": [],
   "source": []
  }
 ],
 "metadata": {
  "kernelspec": {
   "display_name": "Python [conda env:base] *",
   "language": "python",
   "name": "conda-base-py"
  },
  "language_info": {
   "codemirror_mode": {
    "name": "ipython",
    "version": 3
   },
   "file_extension": ".py",
   "mimetype": "text/x-python",
   "name": "python",
   "nbconvert_exporter": "python",
   "pygments_lexer": "ipython3",
   "version": "3.12.7"
  }
 },
 "nbformat": 4,
 "nbformat_minor": 5
}
